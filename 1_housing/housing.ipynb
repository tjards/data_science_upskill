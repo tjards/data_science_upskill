{
 "cells": [
  {
   "cell_type": "markdown",
   "id": "6c25c603",
   "metadata": {},
   "source": [
    "## Analyzing Housing Data\n"
   ]
  },
  {
   "cell_type": "code",
   "execution_count": 1,
   "id": "c32d94a2",
   "metadata": {},
   "outputs": [],
   "source": [
    "# import stuff\n",
    "import os\n",
    "import tarfile\n",
    "import urllib.request\n",
    "import pandas as pd\n"
   ]
  },
  {
   "cell_type": "code",
   "execution_count": 2,
   "id": "c7f4d4d4",
   "metadata": {},
   "outputs": [],
   "source": [
    "# remote data source(s)\n",
    "path_remote = \"https://raw.githubusercontent.com/ageron/handson-ml2/master/datasets/\"\n",
    "path_remote_housing = path_remote + \"housing/housing.tgz\"\n",
    "\n",
    "# define local data path \n",
    "path_local_housing = os.path.join(\"datasets\", \"housing\")\n"
   ]
  },
  {
   "cell_type": "code",
   "execution_count": 3,
   "id": "ca1d1e86",
   "metadata": {},
   "outputs": [],
   "source": [
    "# fetch data (tgz format)\n",
    "def fetch_data_tgz(remote, local, filename):\n",
    "    os.makedirs(local, exist_ok = True)\n",
    "    tgz_path = os.path.join(local, filename)\n",
    "    urllib.request.urlretrieve(remote, tgz_path)\n",
    "    tgz_file = tarfile.open(tgz_path)\n",
    "    tgz_file.extractall(path=local)\n",
    "    tgz_file.close()\n",
    "    \n",
    "fetch_data_tgz(path_remote_housing, path_local_housing, 'housing.tgz')"
   ]
  },
  {
   "cell_type": "code",
   "execution_count": 4,
   "id": "a0ff3563",
   "metadata": {},
   "outputs": [],
   "source": [
    "# load dataframe\n",
    "def load_data_csv(path, filename_csv):\n",
    "    csv_path = os.path.join(path, filename_csv)\n",
    "    return pd.read_csv(csv_path)\n",
    "    \n",
    "housing = load_data_csv(path_local_housing, 'housing.csv')    \n",
    "\n"
   ]
  },
  {
   "cell_type": "code",
   "execution_count": null,
   "id": "4ff02692",
   "metadata": {},
   "outputs": [],
   "source": []
  }
 ],
 "metadata": {
  "kernelspec": {
   "display_name": "Python 3 (ipykernel)",
   "language": "python",
   "name": "python3"
  },
  "language_info": {
   "codemirror_mode": {
    "name": "ipython",
    "version": 3
   },
   "file_extension": ".py",
   "mimetype": "text/x-python",
   "name": "python",
   "nbconvert_exporter": "python",
   "pygments_lexer": "ipython3",
   "version": "3.11.4"
  }
 },
 "nbformat": 4,
 "nbformat_minor": 5
}
