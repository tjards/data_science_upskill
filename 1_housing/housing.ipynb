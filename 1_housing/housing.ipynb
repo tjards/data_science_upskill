{
 "cells": [
  {
   "cell_type": "markdown",
   "id": "21fb8b4e",
   "metadata": {},
   "source": [
    "## Analyzing Housing Data\n"
   ]
  },
  {
   "cell_type": "code",
   "execution_count": 1,
   "id": "b9e1fb51",
   "metadata": {},
   "outputs": [],
   "source": [
    "# import stuff\n",
    "import os\n",
    "import tarfile\n",
    "import urllib.request\n"
   ]
  },
  {
   "cell_type": "code",
   "execution_count": 2,
   "id": "1d13156f",
   "metadata": {},
   "outputs": [],
   "source": [
    "# remote data source(s)\n",
    "path_remote = \"https://raw.githubusercontent.com/ageron/handson-ml2/master/datasets/\"\n",
    "path_remote_housing = path_remote + \"housing/housing.tgz\"\n",
    "\n",
    "# define local data path\n",
    "filename = 'housing'\n",
    "path_local_housing = os.path.join(\"datasets\", filename)\n",
    "\n",
    "# custom function to fetch data (tgz format)\n",
    "def fetch_data_tgz(remote, local, filename):\n",
    "    os.makedirs(local, exist_ok = True)\n",
    "    tgz_path = os.path.join(local, filename+'.tgz')\n",
    "    urllib.request.urlretrieve(remote, tgz_path)\n",
    "    tgz_file = tarfile.open(tgz_path)\n",
    "    tgz_file.extractall(path=local)\n",
    "    tgz_file.close()\n"
   ]
  },
  {
   "cell_type": "code",
   "execution_count": 3,
   "id": "99518360",
   "metadata": {},
   "outputs": [],
   "source": [
    "fetch_data_tgz(path_remote_housing, path_local_housing, filename)"
   ]
  },
  {
   "cell_type": "code",
   "execution_count": null,
   "id": "c3242e9b",
   "metadata": {},
   "outputs": [],
   "source": []
  },
  {
   "cell_type": "code",
   "execution_count": null,
   "id": "9a58da33",
   "metadata": {},
   "outputs": [],
   "source": []
  }
 ],
 "metadata": {
  "kernelspec": {
   "display_name": "Python 3 (ipykernel)",
   "language": "python",
   "name": "python3"
  },
  "language_info": {
   "codemirror_mode": {
    "name": "ipython",
    "version": 3
   },
   "file_extension": ".py",
   "mimetype": "text/x-python",
   "name": "python",
   "nbconvert_exporter": "python",
   "pygments_lexer": "ipython3",
   "version": "3.11.4"
  }
 },
 "nbformat": 4,
 "nbformat_minor": 5
}
