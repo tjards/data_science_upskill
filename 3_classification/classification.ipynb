{
 "cells": [
  {
   "cell_type": "markdown",
   "id": "0c4b52a7",
   "metadata": {},
   "source": [
    "# MNIST Classification\n"
   ]
  },
  {
   "cell_type": "code",
   "execution_count": 1,
   "id": "e7426684",
   "metadata": {},
   "outputs": [],
   "source": [
    "# import stuff\n",
    "from sklearn.datasets import fetch_openml\n",
    "import numpy as np\n",
    "import pandas as pd"
   ]
  },
  {
   "cell_type": "code",
   "execution_count": 2,
   "id": "b30871a7",
   "metadata": {},
   "outputs": [
    {
     "data": {
      "text/plain": [
       "dict_keys(['data', 'target', 'frame', 'categories', 'feature_names', 'target_names', 'DESCR', 'details', 'url'])"
      ]
     },
     "execution_count": 2,
     "metadata": {},
     "output_type": "execute_result"
    }
   ],
   "source": [
    "# fetch data from mnist database\n",
    "mnist = fetch_openml('mnist_784', version = 1, parser='liac-arff')\n",
    "mnist.keys()"
   ]
  },
  {
   "cell_type": "code",
   "execution_count": 3,
   "id": "0c4928d4",
   "metadata": {},
   "outputs": [
    {
     "name": "stdout",
     "output_type": "stream",
     "text": [
      "features:  (70000, 784)  labels:  (70000,)\n"
     ]
    }
   ],
   "source": [
    "X, y = mnist['data'], mnist['target']\n",
    "print('features: ', X.shape, ' labels: ', y.shape)"
   ]
  },
  {
   "cell_type": "code",
   "execution_count": 4,
   "id": "70ee8e7b",
   "metadata": {},
   "outputs": [
    {
     "data": {
      "image/png": "[encoded data removed]",
      "text/plain": [
       "<Figure size 200x200 with 1 Axes>"
      ]
     },
     "metadata": {},
     "output_type": "display_data"
    }
   ],
   "source": [
    "# let's visualize one of the characters\n",
    "import matplotlib as mpl\n",
    "import matplotlib.pyplot as plt\n",
    "\n",
    "# the 784 features represent pixel intensity of a 28 x 28 image\n",
    "image_index = 5\n",
    "some_digit = np.array(X.iloc[image_index])\n",
    "some_digit_image = some_digit.reshape(28,28) # resizes vector to 2D array\n",
    "plt.figure(figsize=(2, 2))\n",
    "plt.imshow(some_digit_image, cmap = 'binary')\n",
    "plt.axis('off')\n",
    "plt.show()\n"
   ]
  },
  {
   "cell_type": "code",
   "execution_count": 5,
   "id": "9d268c9a",
   "metadata": {},
   "outputs": [
    {
     "name": "stdout",
     "output_type": "stream",
     "text": [
      "the above should looks like a  2\n"
     ]
    }
   ],
   "source": [
    "print('the above should looks like a ', y[image_index])"
   ]
  },
  {
   "cell_type": "code",
   "execution_count": 6,
   "id": "352a8fc3",
   "metadata": {},
   "outputs": [
    {
     "data": {
      "text/plain": [
       "numpy.uint8"
      ]
     },
     "execution_count": 6,
     "metadata": {},
     "output_type": "execute_result"
    }
   ],
   "source": [
    "# typically, we want labels to be numbers, so let's cast to an integer\n",
    "y = y.astype(np.uint8)\n",
    "type(y[image_index])"
   ]
  },
  {
   "cell_type": "code",
   "execution_count": 7,
   "id": "9abef1b7",
   "metadata": {},
   "outputs": [],
   "source": [
    "# let's create a training and test set\n",
    "train_test_split = 60000\n",
    "X_train, X_test, y_train, y_test = X.iloc[:train_test_split], X.iloc[train_test_split:], y[:train_test_split], y[train_test_split:]"
   ]
  },
  {
   "cell_type": "code",
   "execution_count": 8,
   "id": "8b8e030b",
   "metadata": {},
   "outputs": [],
   "source": [
    "# build a binary classifier (in this case, a 5 detector)\n",
    "y_train_5 = (y_train == 5) # returns a Boolean array same size as y_train (if 5 True, else False)\n",
    "y_test_5 = (y_test == 5)"
   ]
  },
  {
   "cell_type": "code",
   "execution_count": 9,
   "id": "4f693ed8",
   "metadata": {},
   "outputs": [
    {
     "data": {
      "text/html": [
       "<style>#sk-container-id-1 {color: black;}#sk-container-id-1 pre{padding: 0;}#sk-container-id-1 div.sk-toggleable {background-color: white;}#sk-container-id-1 label.sk-toggleable__label {cursor: pointer;display: block;width: 100%;margin-bottom: 0;padding: 0.3em;box-sizing: border-box;text-align: center;}#sk-container-id-1 label.sk-toggleable__label-arrow:before {content: \"▸\";float: left;margin-right: 0.25em;color: #696969;}#sk-container-id-1 label.sk-toggleable__label-arrow:hover:before {color: black;}#sk-container-id-1 div.sk-estimator:hover label.sk-toggleable__label-arrow:before {color: black;}#sk-container-id-1 div.sk-toggleable__content {max-height: 0;max-width: 0;overflow: hidden;text-align: left;background-color: #f0f8ff;}#sk-container-id-1 div.sk-toggleable__content pre {margin: 0.2em;color: black;border-radius: 0.25em;background-color: #f0f8ff;}#sk-container-id-1 input.sk-toggleable__control:checked~div.sk-toggleable__content {max-height: 200px;max-width: 100%;overflow: auto;}#sk-container-id-1 input.sk-toggleable__control:checked~label.sk-toggleable__label-arrow:before {content: \"▾\";}#sk-container-id-1 div.sk-estimator input.sk-toggleable__control:checked~label.sk-toggleable__label {background-color: #d4ebff;}#sk-container-id-1 div.sk-label input.sk-toggleable__control:checked~label.sk-toggleable__label {background-color: #d4ebff;}#sk-container-id-1 input.sk-hidden--visually {border: 0;clip: rect(1px 1px 1px 1px);clip: rect(1px, 1px, 1px, 1px);height: 1px;margin: -1px;overflow: hidden;padding: 0;position: absolute;width: 1px;}#sk-container-id-1 div.sk-estimator {font-family: monospace;background-color: #f0f8ff;border: 1px dotted black;border-radius: 0.25em;box-sizing: border-box;margin-bottom: 0.5em;}#sk-container-id-1 div.sk-estimator:hover {background-color: #d4ebff;}#sk-container-id-1 div.sk-parallel-item::after {content: \"\";width: 100%;border-bottom: 1px solid gray;flex-grow: 1;}#sk-container-id-1 div.sk-label:hover label.sk-toggleable__label {background-color: #d4ebff;}#sk-container-id-1 div.sk-serial::before {content: \"\";position: absolute;border-left: 1px solid gray;box-sizing: border-box;top: 0;bottom: 0;left: 50%;z-index: 0;}#sk-container-id-1 div.sk-serial {display: flex;flex-direction: column;align-items: center;background-color: white;padding-right: 0.2em;padding-left: 0.2em;position: relative;}#sk-container-id-1 div.sk-item {position: relative;z-index: 1;}#sk-container-id-1 div.sk-parallel {display: flex;align-items: stretch;justify-content: center;background-color: white;position: relative;}#sk-container-id-1 div.sk-item::before, #sk-container-id-1 div.sk-parallel-item::before {content: \"\";position: absolute;border-left: 1px solid gray;box-sizing: border-box;top: 0;bottom: 0;left: 50%;z-index: -1;}#sk-container-id-1 div.sk-parallel-item {display: flex;flex-direction: column;z-index: 1;position: relative;background-color: white;}#sk-container-id-1 div.sk-parallel-item:first-child::after {align-self: flex-end;width: 50%;}#sk-container-id-1 div.sk-parallel-item:last-child::after {align-self: flex-start;width: 50%;}#sk-container-id-1 div.sk-parallel-item:only-child::after {width: 0;}#sk-container-id-1 div.sk-dashed-wrapped {border: 1px dashed gray;margin: 0 0.4em 0.5em 0.4em;box-sizing: border-box;padding-bottom: 0.4em;background-color: white;}#sk-container-id-1 div.sk-label label {font-family: monospace;font-weight: bold;display: inline-block;line-height: 1.2em;}#sk-container-id-1 div.sk-label-container {text-align: center;}#sk-container-id-1 div.sk-container {/* jupyter's `normalize.less` sets `[hidden] { display: none; }` but bootstrap.min.css set `[hidden] { display: none !important; }` so we also need the `!important` here to be able to override the default hidden behavior on the sphinx rendered scikit-learn.org. See: https://github.com/scikit-learn/scikit-learn/issues/21755 */display: inline-block !important;position: relative;}#sk-container-id-1 div.sk-text-repr-fallback {display: none;}</style><div id=\"sk-container-id-1\" class=\"sk-top-container\"><div class=\"sk-text-repr-fallback\"><pre>SGDClassifier(random_state=42)</pre><b>In a Jupyter environment, please rerun this cell to show the HTML representation or trust the notebook. <br />On GitHub, the HTML representation is unable to render, please try loading this page with nbviewer.org.</b></div><div class=\"sk-container\" hidden><div class=\"sk-item\"><div class=\"sk-estimator sk-toggleable\"><input class=\"sk-toggleable__control sk-hidden--visually\" id=\"sk-estimator-id-1\" type=\"checkbox\" checked><label for=\"sk-estimator-id-1\" class=\"sk-toggleable__label sk-toggleable__label-arrow\">SGDClassifier</label><div class=\"sk-toggleable__content\"><pre>SGDClassifier(random_state=42)</pre></div></div></div></div></div>"
      ],
      "text/plain": [
       "SGDClassifier(random_state=42)"
      ]
     },
     "execution_count": 9,
     "metadata": {},
     "output_type": "execute_result"
    }
   ],
   "source": [
    "# create a binary classifier (Stochastic Gradient Descent)\n",
    "from sklearn.linear_model import SGDClassifier\n",
    "sgd_clf = SGDClassifier(random_state = 42)\n",
    "sgd_clf.fit(X_train, y_train_5)"
   ]
  },
  {
   "cell_type": "code",
   "execution_count": 10,
   "id": "6887355b",
   "metadata": {},
   "outputs": [
    {
     "name": "stderr",
     "output_type": "stream",
     "text": [
      "/Users/tjards/anaconda3/lib/python3.11/site-packages/sklearn/base.py:464: UserWarning: X does not have valid feature names, but SGDClassifier was fitted with feature names\n",
      "  warnings.warn(\n"
     ]
    },
    {
     "data": {
      "text/plain": [
       "array([ True])"
      ]
     },
     "execution_count": 10,
     "metadata": {},
     "output_type": "execute_result"
    }
   ],
   "source": [
    "image_index = 0\n",
    "some_digit = X.iloc[image_index]\n",
    "sgd_clf.predict([some_digit])"
   ]
  },
  {
   "cell_type": "code",
   "execution_count": 11,
   "id": "08876d34",
   "metadata": {},
   "outputs": [
    {
     "data": {
      "text/plain": [
       "array([0.95035, 0.96035, 0.9604 ])"
      ]
     },
     "execution_count": 11,
     "metadata": {},
     "output_type": "execute_result"
    }
   ],
   "source": [
    "# let's use cross validation to measure accuracy \n",
    "from sklearn.model_selection import cross_val_score\n",
    "cross_val_score(sgd_clf, X_train, y_train_5, cv=3, scoring='accuracy')"
   ]
  },
  {
   "cell_type": "code",
   "execution_count": 12,
   "id": "ac356eee",
   "metadata": {},
   "outputs": [
    {
     "data": {
      "text/plain": [
       "array([0.91125, 0.90855, 0.90915])"
      ]
     },
     "execution_count": 12,
     "metadata": {},
     "output_type": "execute_result"
    }
   ],
   "source": [
    "# let's build a dumb classifier that pumps out not-5\n",
    "from sklearn.base import BaseEstimator\n",
    "\n",
    "class Never5Classifier(BaseEstimator):\n",
    "    def fit(self, X, y=None):\n",
    "        return self\n",
    "    def predict(self, X):\n",
    "        return np.zeros((len(X), 1), dtype = bool)\n",
    "\n",
    "never_5_clf = Never5Classifier()\n",
    "cross_val_score(never_5_clf, X_train, y_train_5, cv =3, scoring = 'accuracy')"
   ]
  },
  {
   "cell_type": "code",
   "execution_count": 13,
   "id": "0687ecc4",
   "metadata": {},
   "outputs": [
    {
     "name": "stdout",
     "output_type": "stream",
     "text": [
      "training set contains 9.035 % percent True 5 samples\n"
     ]
    }
   ],
   "source": [
    "# this just suggests roughly 10 percent of the set is 5's, rather than speak to the model's accuracy\n",
    "print('training set contains' , 100*(np.sum(y_train_5 == 1)/len(y_train_5)), '% percent True 5 samples')"
   ]
  },
  {
   "cell_type": "code",
   "execution_count": 14,
   "id": "8ca96af9",
   "metadata": {},
   "outputs": [],
   "source": [
    "# build the confusion matrix, which is a better indicator\n",
    "from sklearn.model_selection import cross_val_predict \n",
    "y_train_pred = cross_val_predict(sgd_clf, X_train, y_train_5, cv=3)"
   ]
  },
  {
   "cell_type": "code",
   "execution_count": 15,
   "id": "e66d9a81",
   "metadata": {},
   "outputs": [
    {
     "data": {
      "text/plain": [
       "array([[53892,   687],\n",
       "       [ 1891,  3530]])"
      ]
     },
     "execution_count": 15,
     "metadata": {},
     "output_type": "execute_result"
    }
   ],
   "source": [
    "from sklearn.metrics import confusion_matrix\n",
    "confusion_matrix(y_train_5, y_train_pred)\n",
    "\n",
    "#          Predicted\n",
    "#          __0___1__\n",
    "#Actual  0| TN | FP |\n",
    "#        1| FN | TP |\n",
    "#          ---------\n"
   ]
  },
  {
   "cell_type": "code",
   "execution_count": 16,
   "id": "d958ea01",
   "metadata": {},
   "outputs": [
    {
     "name": "stdout",
     "output_type": "stream",
     "text": [
      "precision:  0.8370879772350012\n",
      "recall:  0.6511713705958311\n"
     ]
    }
   ],
   "source": [
    "# compute precisions and recall\n",
    "from sklearn.metrics import precision_score, recall_score\n",
    "print('precision: ', precision_score(y_train_5, y_train_pred))\n",
    "print('recall: ', recall_score(y_train_5, y_train_pred))"
   ]
  },
  {
   "cell_type": "code",
   "execution_count": 17,
   "id": "60893c98",
   "metadata": {},
   "outputs": [
    {
     "name": "stdout",
     "output_type": "stream",
     "text": [
      "F1 score:  0.7325171197343846\n"
     ]
    }
   ],
   "source": [
    "# compute F1-score, which is a composite of these two\n",
    "from sklearn.metrics import f1_score\n",
    "print('F1 score: ', f1_score(y_train_5, y_train_pred))"
   ]
  },
  {
   "cell_type": "code",
   "execution_count": 20,
   "id": "f671247a",
   "metadata": {},
   "outputs": [
    {
     "name": "stdout",
     "output_type": "stream",
     "text": [
      "score for digit  0 :  [2164.22030239]\n"
     ]
    },
    {
     "name": "stderr",
     "output_type": "stream",
     "text": [
      "/Users/tjards/anaconda3/lib/python3.11/site-packages/sklearn/base.py:464: UserWarning: X does not have valid feature names, but SGDClassifier was fitted with feature names\n",
      "  warnings.warn(\n"
     ]
    }
   ],
   "source": [
    "# precision/recall trade-off depends on decision function threshold\n",
    "y_scores = sgd_clf.decision_function([some_digit])\n",
    "print('score for digit ', image_index, ': ', y_scores)"
   ]
  },
  {
   "cell_type": "code",
   "execution_count": 21,
   "id": "875cdafe",
   "metadata": {},
   "outputs": [
    {
     "name": "stdout",
     "output_type": "stream",
     "text": [
      "[ True]\n"
     ]
    }
   ],
   "source": [
    "# manually check if score is above user-defined threshold\n",
    "threshold = 0 \n",
    "y_some_digit_pred = (y_scores > threshold)\n",
    "print(y_some_digit_pred)"
   ]
  },
  {
   "cell_type": "code",
   "execution_count": 22,
   "id": "327a69ab",
   "metadata": {},
   "outputs": [
    {
     "name": "stdout",
     "output_type": "stream",
     "text": [
      "[False]\n"
     ]
    }
   ],
   "source": [
    "# raise the threshold (more precision, less recall)\n",
    "threshold = 8000\n",
    "y_some_digit_pred = (y_scores > threshold)\n",
    "print(y_some_digit_pred)\n"
   ]
  },
  {
   "cell_type": "code",
   "execution_count": 29,
   "id": "8a421791",
   "metadata": {},
   "outputs": [],
   "source": [
    "# return decisions scores instead of predictions\n",
    "y_scores = cross_val_predict(sgd_clf, X_train, y_train_5, cv=3, method = 'decision_function')"
   ]
  },
  {
   "cell_type": "code",
   "execution_count": 30,
   "id": "eb93a134",
   "metadata": {},
   "outputs": [],
   "source": [
    "# compute precision/recall for all possible thresholds\n",
    "from sklearn.metrics import precision_recall_curve\n",
    "precisions, recalls, thresholds = precision_recall_curve(y_train_5, y_scores)"
   ]
  },
  {
   "cell_type": "code",
   "execution_count": 45,
   "id": "eff3e1a4",
   "metadata": {},
   "outputs": [
    {
     "data": {
      "image/png": "[encoded data removed]",
      "text/plain": [
       "<Figure size 640x480 with 1 Axes>"
      ]
     },
     "metadata": {},
     "output_type": "display_data"
    }
   ],
   "source": [
    "# now plot them \n",
    "def plot_precision_recall_vs_threshold(precisions, recalls, thresholds):\n",
    "    plt.plot(thresholds, precisions[:-1], 'b--', label = 'precision')\n",
    "    plt.plot(thresholds, recalls[:-1], 'g-', label = 'recall')\n",
    "    plt.axis([-50000, 50000, 0, 1])\n",
    "    plt.axvline(threshold, color = 'r', linestyle = ':')\n",
    "    plt.xlabel('thresholds')\n",
    "    plt.legend()\n",
    "    \n",
    "plot_precision_recall_vs_threshold(precisions, recalls, thresholds)\n",
    "plt.show()"
   ]
  },
  {
   "cell_type": "code",
   "execution_count": 50,
   "id": "79d4c913",
   "metadata": {},
   "outputs": [
    {
     "data": {
      "image/png": "[encoded data removed]",
      "text/plain": [
       "<Figure size 640x480 with 1 Axes>"
      ]
     },
     "metadata": {},
     "output_type": "display_data"
    }
   ],
   "source": [
    "# try just precision vs recall\n",
    "def plot_precision_vs_recall(precisions, recalls):\n",
    "    plt.plot(recalls[:-1], precisions[:-1], 'b-')\n",
    "    #plt.axis([-50000, 50000, 0, 1])\n",
    "    plt.axvline(0.42, color = 'r', linestyle = ':')\n",
    "    plt.xlabel('recall')\n",
    "    plt.ylabel('precision')\n",
    "    #plt.legend()\n",
    "plot_precision_vs_recall(precisions, recalls)\n",
    "plt.show()    \n"
   ]
  },
  {
   "cell_type": "code",
   "execution_count": 52,
   "id": "1b72aaaa",
   "metadata": {},
   "outputs": [
    {
     "name": "stdout",
     "output_type": "stream",
     "text": [
      "3370.019499143958\n"
     ]
    }
   ],
   "source": [
    "# find lowest threshold to get 90% precision\n",
    "threshold_90_precision = thresholds[np.argmax(precisions>=0.9)]\n",
    "print(threshold_90_precision)"
   ]
  },
  {
   "cell_type": "code",
   "execution_count": 56,
   "id": "7453aeab",
   "metadata": {},
   "outputs": [
    {
     "name": "stdout",
     "output_type": "stream",
     "text": [
      "precision:  0.9000345901072293\n",
      "recall:  0.4799852425751706\n"
     ]
    }
   ],
   "source": [
    "y_train_pred_90  = (y_scores >= threshold_90_precision)\n",
    "print('precision: ', precision_score(y_train_5, y_train_pred_90))\n",
    "print('recall: ', recall_score(y_train_5, y_train_pred_90))"
   ]
  },
  {
   "cell_type": "code",
   "execution_count": null,
   "id": "59796ca9",
   "metadata": {},
   "outputs": [],
   "source": []
  }
 ],
 "metadata": {
  "kernelspec": {
   "display_name": "Python 3 (ipykernel)",
   "language": "python",
   "name": "python3"
  },
  "language_info": {
   "codemirror_mode": {
    "name": "ipython",
    "version": 3
   },
   "file_extension": ".py",
   "mimetype": "text/x-python",
   "name": "python",
   "nbconvert_exporter": "python",
   "pygments_lexer": "ipython3",
   "version": "3.11.4"
  }
 },
 "nbformat": 4,
 "nbformat_minor": 5
}
