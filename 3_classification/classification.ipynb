{
 "cells": [
  {
   "cell_type": "markdown",
   "id": "2d38c0c2",
   "metadata": {},
   "source": [
    "# MNIST Classification\n"
   ]
  },
  {
   "cell_type": "code",
   "execution_count": 25,
   "id": "6ef798cb",
   "metadata": {},
   "outputs": [],
   "source": [
    "# import stuff\n",
    "from sklearn.datasets import fetch_openml\n",
    "import numpy as np"
   ]
  },
  {
   "cell_type": "code",
   "execution_count": 2,
   "id": "471f9ba0",
   "metadata": {},
   "outputs": [
    {
     "data": {
      "text/plain": [
       "dict_keys(['data', 'target', 'frame', 'categories', 'feature_names', 'target_names', 'DESCR', 'details', 'url'])"
      ]
     },
     "execution_count": 2,
     "metadata": {},
     "output_type": "execute_result"
    }
   ],
   "source": [
    "# fetch data from mnist database\n",
    "mnist = fetch_openml('mnist_784', version = 1, parser='liac-arff')\n",
    "mnist.keys()"
   ]
  },
  {
   "cell_type": "code",
   "execution_count": 7,
   "id": "81c1d2a6",
   "metadata": {},
   "outputs": [
    {
     "name": "stdout",
     "output_type": "stream",
     "text": [
      "features:  (70000, 784)  labels:  (70000,)\n"
     ]
    }
   ],
   "source": [
    "X, y = mnist['data'], mnist['target']\n",
    "print('features: ', X.shape, ' labels: ', y.shape)"
   ]
  },
  {
   "cell_type": "code",
   "execution_count": 33,
   "id": "af6d5204",
   "metadata": {},
   "outputs": [
    {
     "data": {
      "image/png": "[encoded data removed]",
      "text/plain": [
       "<Figure size 200x200 with 1 Axes>"
      ]
     },
     "metadata": {},
     "output_type": "display_data"
    }
   ],
   "source": [
    "# let's visualize one of the characters\n",
    "import matplotlib as mpl\n",
    "import matplotlib.pyplot as plt\n",
    "\n",
    "# the 784 features represent pixel intensity of a 28 x 28 image\n",
    "image_index = 5\n",
    "some_digit = np.array(X.iloc[image_index])\n",
    "some_digit_image = some_digit.reshape(28,28) # resizes vector to 2D array\n",
    "plt.figure(figsize=(2, 2))\n",
    "plt.imshow(some_digit_image, cmap = 'binary')\n",
    "plt.axis('off')\n",
    "plt.show()\n"
   ]
  },
  {
   "cell_type": "code",
   "execution_count": 34,
   "id": "dbb8280d",
   "metadata": {},
   "outputs": [
    {
     "name": "stdout",
     "output_type": "stream",
     "text": [
      "the above should looks like a  2\n"
     ]
    }
   ],
   "source": [
    "print('the above should looks like a ', y[image_index])"
   ]
  },
  {
   "cell_type": "code",
   "execution_count": 37,
   "id": "0ed180ea",
   "metadata": {},
   "outputs": [
    {
     "data": {
      "text/plain": [
       "numpy.uint8"
      ]
     },
     "execution_count": 37,
     "metadata": {},
     "output_type": "execute_result"
    }
   ],
   "source": [
    "# typically, we want labels to be numbers, so let's cast to an integer\n",
    "y = y.astype(np.uint8)\n",
    "type(y[image_index])"
   ]
  },
  {
   "cell_type": "code",
   "execution_count": 38,
   "id": "0cfccd37",
   "metadata": {},
   "outputs": [],
   "source": [
    "# let's create a training and test set\n",
    "train_test)\n",
    "\n",
    "X_train, X_test, y_train, y_test = X.iloc[:60000], X.iloc[60000:], y[:60000], y[60000:]"
   ]
  },
  {
   "cell_type": "code",
   "execution_count": null,
   "id": "af636ee9",
   "metadata": {},
   "outputs": [],
   "source": []
  }
 ],
 "metadata": {
  "kernelspec": {
   "display_name": "Python 3 (ipykernel)",
   "language": "python",
   "name": "python3"
  },
  "language_info": {
   "codemirror_mode": {
    "name": "ipython",
    "version": 3
   },
   "file_extension": ".py",
   "mimetype": "text/x-python",
   "name": "python",
   "nbconvert_exporter": "python",
   "pygments_lexer": "ipython3",
   "version": "3.11.4"
  }
 },
 "nbformat": 4,
 "nbformat_minor": 5
}
